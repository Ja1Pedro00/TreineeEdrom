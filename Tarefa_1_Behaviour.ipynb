{
 "cells": [
  {
   "cell_type": "code",
   "execution_count": 31,
   "id": "3b63980f-4e55-4a1d-9da9-ee25da59d908",
   "metadata": {},
   "outputs": [
    {
     "name": "stdin",
     "output_type": "stream",
     "text": [
      "Digite a coordenada X do ponto =  4\n",
      "Digite a coordenada Y do ponto =  5\n",
      "Digite o valor da largura do retangulo =  2\n",
      "Digite o valor da altura do retangulo =  4\n"
     ]
    },
    {
     "name": "stdout",
     "output_type": "stream",
     "text": [
      "O ponto está Fora do Retangulo\n"
     ]
    }
   ],
   "source": [
    "def posicao_ponto(x,y,largura,altura):\n",
    "    limcima = altura\n",
    "    limbaixo = -altura\n",
    "    limesquerda = -largura\n",
    "    limdireita = largura\n",
    "\n",
    "    \n",
    "    if x<limdireita and x>limbaixo and y>limesquerda and y<limdireita:\n",
    "        posicao = []\n",
    "        if x<0:\n",
    "            posicao.append(\"Esquerda\")\n",
    "        elif x>0:\n",
    "            posicao.append(\"Direita\")\n",
    "        else:\n",
    "            posicao.append(\"Centralizado Horizontalmente\")\n",
    "    \n",
    "        if y<0:\n",
    "            posicao.append(\"Baixo\")\n",
    "        elif y>0:\n",
    "           posicao.append(\"Cima\")\n",
    "        else:\n",
    "            posicao.append(\"Centralizado Verticalmente\")\n",
    "            \n",
    "            \n",
    "        return \" \".join(posicao)\n",
    "   \n",
    "    else:\n",
    "        return \"Fora do Retangulo\"\n",
    "\n",
    "\n",
    "x = int (input(\"Digite a coordenada X do ponto = \"))\n",
    "y = int (input(\"Digite a coordenada Y do ponto = \"))\n",
    "largura_retangulo = int(input(\"Digite o valor da largura do retangulo = \"))\n",
    "altura_retangulo = int (input(\"Digite o valor da altura do retangulo = \"))\n",
    "\n",
    "posi = posicao_ponto (x, y, largura_retangulo, altura_retangulo)\n",
    "print(f\"O ponto está {posi}\")\n"
   ]
  },
  {
   "cell_type": "code",
   "execution_count": null,
   "id": "fa839445-6bf2-4ceb-a634-0b98c9c9c246",
   "metadata": {},
   "outputs": [],
   "source": []
  },
  {
   "cell_type": "code",
   "execution_count": null,
   "id": "70919fdf-127f-4253-9d93-6156144847eb",
   "metadata": {},
   "outputs": [],
   "source": []
  }
 ],
 "metadata": {
  "kernelspec": {
   "display_name": "Python 3 (ipykernel)",
   "language": "python",
   "name": "python3"
  },
  "language_info": {
   "codemirror_mode": {
    "name": "ipython",
    "version": 3
   },
   "file_extension": ".py",
   "mimetype": "text/x-python",
   "name": "python",
   "nbconvert_exporter": "python",
   "pygments_lexer": "ipython3",
   "version": "3.11.5"
  }
 },
 "nbformat": 4,
 "nbformat_minor": 5
}
