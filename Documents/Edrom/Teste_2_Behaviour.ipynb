{
 "cells": [
  {
   "cell_type": "code",
   "execution_count": 15,
   "id": "e90052ea",
   "metadata": {},
   "outputs": [],
   "source": [
    "from transitions import Machine\n",
    "import random"
   ]
  },
  {
   "cell_type": "code",
   "execution_count": 18,
   "id": "5e4605b2",
   "metadata": {},
   "outputs": [],
   "source": [
    "class Universitario:\n",
    "    pass\n",
    "estados= ['estudando', 'no bar', 'descansando']\n",
    "transicoes = [ \n",
    "    {'trigger': 'inicio_semestre', 'source': 'descansando', 'dest': 'estudando'},\n",
    "{'trigger': 'fim_aulas', 'source': 'estudando', 'dest': 'no_bar'},\n",
    "{'trigger': 'prova_dia_seguinte', 'source': '*', 'dest': 'estudando'},\n",
    "{'trigger': 'fds', 'source': 'estudando', 'dest': 'descansando'},\n",
    "{'trigger': 'prova_fim_semana', 'source': 'descansando', 'dest': 'estudando'},\n",
    "{'trigger': 'ferias', 'source': '*', 'dest': 'descansando'}\n",
    "]"
   ]
  },
  {
   "cell_type": "code",
   "execution_count": 19,
   "id": "d8a80deb",
   "metadata": {},
   "outputs": [
    {
     "name": "stdout",
     "output_type": "stream",
     "text": [
      "Estado: estudando\n",
      "Estado: estudando\n",
      "Estado: descansando\n",
      "Estado: estudando\n",
      "Estado: descansando\n"
     ]
    }
   ],
   "source": [
    "maquina = Machine(model = Universitario, states = estados, transitions = transicoes, initial = 'descansando')\n",
    "uni = Universitario()\n",
    "\n",
    "uni.inicio_semestre()\n",
    "print(f\"Estado: {uni.state}\")\n",
    "uni.prova_dia_seguinte()\n",
    "print(f\"Estado: {uni.state}\")\n",
    "uni.fds()\n",
    "print(f\"Estado: {uni.state}\")\n",
    "uni.prova_fim_semana()\n",
    "print(f\"Estado: {uni.state}\")\n",
    "uni.ferias()\n",
    "print(f\"Estado: {uni.state}\")"
   ]
  },
  {
   "cell_type": "code",
   "execution_count": null,
   "id": "634ad80f",
   "metadata": {},
   "outputs": [],
   "source": []
  }
 ],
 "metadata": {
  "kernelspec": {
   "display_name": "Python 3 (ipykernel)",
   "language": "python",
   "name": "python3"
  },
  "language_info": {
   "codemirror_mode": {
    "name": "ipython",
    "version": 3
   },
   "file_extension": ".py",
   "mimetype": "text/x-python",
   "name": "python",
   "nbconvert_exporter": "python",
   "pygments_lexer": "ipython3",
   "version": "3.11.5"
  }
 },
 "nbformat": 4,
 "nbformat_minor": 5
}
